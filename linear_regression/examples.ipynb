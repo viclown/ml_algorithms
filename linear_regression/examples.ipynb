{
 "cells": [
  {
   "cell_type": "code",
   "execution_count": 45,
   "metadata": {},
   "outputs": [],
   "source": [
    "import numpy as np\n",
    "from linear_regression import LinearRegression"
   ]
  },
  {
   "cell_type": "code",
   "execution_count": 46,
   "metadata": {},
   "outputs": [],
   "source": [
    "model = LinearRegression()"
   ]
  },
  {
   "cell_type": "code",
   "execution_count": 47,
   "metadata": {},
   "outputs": [],
   "source": [
    "X = np.array([[1, 1, 5], [1, 2, 3], [2, 2, 10], [2, 3, 50], [4, 10, 1], [2, 5, 7], [5, 4, 12], [-2, 3, 12]])\n",
    "\n",
    "# y = 1 * x_0 + 2 * x_1 - 50 * x_2 + 3\n",
    "y = np.dot(X, np.array([1, 2, -50])) + 3\n",
    "model.fit(X, y)"
   ]
  },
  {
   "cell_type": "code",
   "execution_count": 48,
   "metadata": {},
   "outputs": [],
   "source": [
    "# predict y for new data\n",
    "y_pred = model.predict(np.array([[3, 5, 10], [3, 9, 7]]))"
   ]
  },
  {
   "cell_type": "code",
   "execution_count": 49,
   "metadata": {},
   "outputs": [
    {
     "name": "stdout",
     "output_type": "stream",
     "text": [
      "[-484 -326]\n"
     ]
    }
   ],
   "source": [
    "# get true values for the data\n",
    "y_true = np.dot(np.array([[3, 5, 10], [3, 9, 7]]), np.array([1, 2, -50])) + 3\n",
    "print(y_true)"
   ]
  },
  {
   "cell_type": "code",
   "execution_count": 50,
   "metadata": {},
   "outputs": [
    {
     "name": "stdout",
     "output_type": "stream",
     "text": [
      "1.0\n"
     ]
    }
   ],
   "source": [
    "# get coefficient of determination of the prediction\n",
    "r_score = model.r_score(y_true, y_pred)\n",
    "print(r_score)"
   ]
  },
  {
   "cell_type": "code",
   "execution_count": 51,
   "metadata": {},
   "outputs": [
    {
     "name": "stdout",
     "output_type": "stream",
     "text": [
      "[  1.   2. -50.   3.]\n"
     ]
    }
   ],
   "source": [
    "# get model weights\n",
    "print(model.coefficients())"
   ]
  }
 ],
 "metadata": {
  "kernelspec": {
   "display_name": "Python 3",
   "language": "python",
   "name": "python3"
  },
  "language_info": {
   "codemirror_mode": {
    "name": "ipython",
    "version": 3
   },
   "file_extension": ".py",
   "mimetype": "text/x-python",
   "name": "python",
   "nbconvert_exporter": "python",
   "pygments_lexer": "ipython3",
   "version": "3.8.5"
  }
 },
 "nbformat": 4,
 "nbformat_minor": 4
}
